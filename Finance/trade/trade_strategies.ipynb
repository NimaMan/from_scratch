{
 "cells": [
  {
   "attachments": {},
   "cell_type": "markdown",
   "metadata": {},
   "source": [
    "# Trading Strategies\n",
    "## Introduction\n",
    "There are many different types of trading strategies, each with their own advantages and disadvantages. Some well-known strategies are: momentum trading, mean reversion, and trend following. Our initial step is to gain an understanding of how they work and what types of market conditions they are best suited for.\n",
    "\n",
    "Let's get started!"
   ]
  },
  {
   "attachments": {},
   "cell_type": "markdown",
   "metadata": {},
   "source": [
    "# Momentum Trading\n",
    "Momentum trading is a strategy that involves buying stocks that have recently experienced a large increase in price. The idea is that the stock will continue to increase in price, and the investor will be able to sell the stock at a higher price than they bought it for. This strategy is best suited for markets that are trending upwards, as the strategy will not work if the market is trending downwards.\n",
    "\n",
    "Let's look at an example of a momentum trading strategy. We will use the `momentum` function from the `mlfinlab` library to calculate the momentum of a stock. The momentum is calculated by taking the difference between the current price and the price `n` days ago. The `n` parameter is the lookback period, and is the number of days to look back when calculating the momentum. The momentum is then normalized by dividing it by the price `n` days ago. The `n` parameter is set to 20 days by default. \n",
    "\n",
    "The `momentum` function returns a pandas Series with the momentum values. We can then use the `plot` function from the `matplotlib` library to plot the momentum values over time."
   ]
  },
  {
   "cell_type": "code",
   "execution_count": 1,
   "metadata": {},
   "outputs": [
    {
     "name": "stdout",
     "output_type": "stream",
     "text": [
      "\u001b[31mERROR: Could not find a version that satisfies the requirement mlfinlab (from versions: none)\u001b[0m\u001b[31m\n",
      "\u001b[0m\u001b[31mERROR: No matching distribution found for mlfinlab\u001b[0m\u001b[31m\n",
      "\u001b[0m"
     ]
    }
   ],
   "source": [
    "! pip install mlfinlab"
   ]
  },
  {
   "cell_type": "code",
   "execution_count": null,
   "metadata": {},
   "outputs": [],
   "source": [
    "import pandas as pd\n",
    "import numpy as np\n",
    "import matplotlib.pyplot as plt\n",
    "from mlfinlab.online_portfolio_selection.mean_variance import MeanVarianceOptimisation\n",
    "from mlfinlab.online_portfolio_selection.uncorrelated_assets import UncorrelatedAssets\n",
    "from mlfinlab.online_portfolio_selection.online_portfolio_selection import OLPS\n",
    "\n",
    "# Import the momentum function\n",
    "from mlfinlab.online_portfolio_selection.momentum import momentum\n",
    "\n",
    "# Import the tick data\n",
    "df = pd.read_csv('https://raw.githubusercontent.com/hudson-and-thames/research/master/Data/stock_prices.csv', index_col='Date', parse_dates=True)\n"
   ]
  },
  {
   "attachments": {},
   "cell_type": "markdown",
   "metadata": {},
   "source": [
    "# Mean Reversion\n",
    "Mean reversion is a strategy that involves buying stocks that have recently experienced a large decrease in price. The Mean Reverting strategy is the opposite of the momentum strategy. The idea is that the stock will continue to decrease in price, and the investor will be able to buy the stock at a lower price than they sold it for. This strategy is best suited for markets that are trending downwards, as the strategy will not work if the market is trending upwards.\n",
    "\n",
    "Let's look at an example of a mean reversion strategy. We will use the `mean_reversion` function from the `mlfinlab` library to calculate the mean reversion of a stock. The mean reversion is calculated by taking the difference between the current price and the price `n` days ago. The `n` parameter is the lookback period, and is the number of days to look back when calculating the mean reversion. The mean reversion is then normalized by dividing it by the price `n` days ago. The `n` parameter is set to 20 days by default.\n",
    "\n"
   ]
  },
  {
   "cell_type": "code",
   "execution_count": null,
   "metadata": {},
   "outputs": [],
   "source": [
    "# mean reversion strategy\n",
    "def mean_reversion(df, window=20, lag=1):\n",
    "    \"\"\"\n",
    "    Mean reversion strategy.\n",
    "\n",
    "    :param df: (pd.DataFrame) Close prices of all tickers in the universe.\n",
    "    :param window: (int) Lookback window.\n",
    "    :param lag: (int) Lag for the signal.\n",
    "    :return: (pd.DataFrame) Weights for each ticker in the universe.\n",
    "    \"\"\"\n",
    "\n",
    "    # Calculate the mean and standard deviation of the log returns\n",
    "    log_rets = np.log(df / df.shift(1))\n",
    "    mean = log_rets.rolling(window).mean()\n",
    "    std = log_rets.rolling(window).std()\n",
    "\n",
    "    # Calculate the z-score\n",
    "    z_score = (log_rets - mean) / std\n",
    "\n",
    "    # Calculate the signal\n",
    "    signal = -np.sign(z_score.shift(lag))\n",
    "\n",
    "    # Calculate the weights\n",
    "    weights = signal / signal.abs().sum(axis=1).replace(0, 1)\n",
    "\n",
    "    return weights"
   ]
  }
 ],
 "metadata": {
  "kernelspec": {
   "display_name": "q",
   "language": "python",
   "name": "python3"
  },
  "language_info": {
   "codemirror_mode": {
    "name": "ipython",
    "version": 3
   },
   "file_extension": ".py",
   "mimetype": "text/x-python",
   "name": "python",
   "nbconvert_exporter": "python",
   "pygments_lexer": "ipython3",
   "version": "3.9.15"
  },
  "orig_nbformat": 4,
  "vscode": {
   "interpreter": {
    "hash": "05e50049e3eb32775174019135b7208a0d3852fb22829b3658213f387a3fdcbe"
   }
  }
 },
 "nbformat": 4,
 "nbformat_minor": 2
}
