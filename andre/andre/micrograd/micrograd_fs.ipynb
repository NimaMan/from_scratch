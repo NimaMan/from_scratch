{
 "cells": [
  {
   "cell_type": "code",
   "execution_count": 2,
   "metadata": {},
   "outputs": [],
   "source": [
    "import math \n",
    "import numpy as np\n",
    "import matplotlib.pyplot as plt\n",
    "%matplotlib inline"
   ]
  },
  {
   "cell_type": "code",
   "execution_count": 20,
   "metadata": {},
   "outputs": [],
   "source": [
    "# datastructure to maintain the neural network parameters\n",
    "class Tensor:\n",
    "    def __init__(self, data, requires_grad=False, _children=(), _ops=[], label=None):\n",
    "        self.data = np.array(data)\n",
    "        self.requires_grad = requires_grad\n",
    "        self.label = label\n",
    "        self._backward = lambda: None # backward function\n",
    "        self.grad = None\n",
    "        self._creator = None\n",
    "        self._ops = _ops # ops that use this tensor as an input\n",
    "        self._children = set(_children)\n",
    "\n",
    "    def __repr__(self):\n",
    "        return \"Tensor: data={}, requires_grad={}, grad={}\".format(self.data, self.requires_grad, self.grad)\n",
    "\n",
    "    def __add__(self, other):\n",
    "        if self.requires_grad or other.requires_grad:\n",
    "            out = Tensor(self.data + other.data, requires_grad=True, _children=(self, other), _ops=\"+\")\n",
    "            def backward():\n",
    "                self.grad += out.grad\n",
    "                other.grad += out.grad\n",
    "            out._backward = backward\n",
    "            return out\n",
    "\n",
    "        return Tensor(self.data + other.data, _children=(self, other), _ops=\"+\")\n",
    "\n",
    "    def __sub__(self, other):\n",
    "        if self.requires_grad or other.requires_grad:\n",
    "            out = Tensor(self.data - other.data, requires_grad=True, _children=(self, other), _ops=\"-\")\n",
    "            def _backward():\n",
    "                self.grad += out.grad\n",
    "                other.grad += -out.grad\n",
    "            out._backward = _backward\n",
    "            return out\n",
    "        return Tensor(self.data - other.data, _children=(self, other), _ops=\"-\")  \n",
    "\n",
    "    def __mul__(self, other):\n",
    "        if not isinstance(other, Tensor):\n",
    "            if self.requires_grad:\n",
    "                out = Tensor(self.data * other, requires_grad=True, _children=(self,), _ops=\"*\")\n",
    "                def backward():\n",
    "                    self.grad += out.grad * other\n",
    "                out._backward = backward\n",
    "                return out\n",
    "            return Tensor(self.data * other, _children=(self,), _ops=\"*\")\n",
    "            \n",
    "        if self.requires_grad or other.requires_grad:\n",
    "            out = Tensor(self.data * other.data, requires_grad=True, _children=(self, other), _ops=\"*\")\n",
    "            def backward():\n",
    "                self.grad += out.grad * other.data\n",
    "                other.grad += out.grad * self.data\n",
    "            out._backward = backward\n",
    "            return out\n",
    "        return Tensor(self.data * other.data, _children=(self, other), _ops=\"*\")  \n",
    "\n",
    "    def rmul(self, other):\n",
    "        return self * other\n",
    "    \n",
    "    def pow(self, other):\n",
    "        assert isinstance(other, int, float), \"exponent must be a number\"\n",
    "        if self.requires_grad:\n",
    "            out = Tensor(self.data ** other, requires_grad=True, _children=(self,), _ops=\"**\")\n",
    "            def backward():\n",
    "                self.grad += out.grad * other * self.data ** (other - 1)\n",
    "            out._backward = backward\n",
    "            return out\n",
    "        return Tensor(self.data ** other, _children=(self,), _ops=\"**\")\n",
    "\n",
    "    def __truediv__(self, other):\n",
    "        if self.requires_grad or other.requires_grad:\n",
    "            out = Tensor(self.data / other.data, requires_grad=True, _children=(self, other), _ops=\"/\")\n",
    "            def backward():\n",
    "                self.grad += out.grad / other.data\n",
    "                other.grad += -out.grad * self.data / other.data**2\n",
    "            out._backward = backward\n",
    "            return out\n",
    "        return Tensor(self.data / other.data, _children=(self, other), _ops=\"/\")\n",
    " \n",
    "    def __matmul__(self, other):\n",
    "        if self.requires_grad or other.requires_grad:\n",
    "            return Tensor(self.data @ other.data, requires_grad=True, _children=(self, other), _ops=\"@\")       \n",
    "        return Tensor(self.data @ other.data, _children=(self, other), _ops=\"@\")\n",
    "\n",
    "    def sum(self):\n",
    "        if self.requires_grad:\n",
    "            return Tensor(self.data.sum(), requires_grad=True, _children=(self,), _ops=\"sum\")\n",
    "        return Tensor(self.data.sum(),  _children=(self,), _ops=\"sum\")\n",
    "\n",
    "    def expand(self, dim):\n",
    "        shape = list(self.data.shape)\n",
    "        shape.insert(dim, 1)\n",
    "        return Tensor(self.data.reshape(shape))\n",
    "\n",
    "    def transpose(self):\n",
    "        return Tensor(self.data.T)\n",
    "    \n",
    "    def exp(self):\n",
    "        if self.requires_grad:\n",
    "            out = Tensor(np.exp(self.data), requires_grad=True, _children=(self,), _ops=\"exp\")\n",
    "            def _backward():\n",
    "                self.grad += out.grad * out.data \n",
    "            out._backward = _backward\n",
    "            return out \n",
    "        return Tensor(np.exp(self.data), _children=(self,), _ops=\"exp\")\n",
    "    \n",
    "    def tanh(self):\n",
    "        if self.requires_grad:\n",
    "            out = Tensor(np.tanh(self.data), requires_grad=True, _children=(self,), _ops=\"tanh\")\n",
    "            def backward():\n",
    "                self.grad += out.grad * (1 - out.data**2)\n",
    "            return out\n",
    "        return Tensor(np.tanh(self.data), _children=(self,), _ops=\"tanh\")\n",
    "    \n",
    "    def backward(self):\n",
    "        self.grad = np.ones_like(self.data)\n",
    "        self._backward()\n",
    "        for child in self._children:\n",
    "            child.backward()\n",
    "    "
   ]
  },
  {
   "cell_type": "code",
   "execution_count": 11,
   "metadata": {},
   "outputs": [
    {
     "data": {
      "image/png": "[encoded data removed]",
      "text/plain": [
       "<Figure size 640x480 with 1 Axes>"
      ]
     },
     "metadata": {},
     "output_type": "display_data"
    }
   ],
   "source": [
    "plt.plot(np.arange(-5, 5, 0.1), np.tanh(np.arange(-5, 5, 0.1)),);plt.grid()"
   ]
  },
  {
   "cell_type": "code",
   "execution_count": 14,
   "metadata": {},
   "outputs": [],
   "source": [
    "a = Tensor(3, label=\"a\", requires_grad=True)\n",
    "\n",
    "b = a + a; b.label=\"b\"\n",
    "\n",
    "b.backward()"
   ]
  },
  {
   "cell_type": "code",
   "execution_count": 16,
   "metadata": {},
   "outputs": [
    {
     "data": {
      "text/plain": [
       "array(1)"
      ]
     },
     "execution_count": 16,
     "metadata": {},
     "output_type": "execute_result"
    }
   ],
   "source": [
    "b.grad"
   ]
  },
  {
   "cell_type": "code",
   "execution_count": 17,
   "metadata": {},
   "outputs": [
    {
     "data": {
      "text/plain": [
       "array(1)"
      ]
     },
     "execution_count": 17,
     "metadata": {},
     "output_type": "execute_result"
    }
   ],
   "source": [
    "a.grad"
   ]
  },
  {
   "cell_type": "code",
   "execution_count": 19,
   "metadata": {},
   "outputs": [
    {
     "data": {
      "text/plain": [
       "array(1)"
      ]
     },
     "execution_count": 19,
     "metadata": {},
     "output_type": "execute_result"
    }
   ],
   "source": [
    "a.grad"
   ]
  },
  {
   "cell_type": "code",
   "execution_count": null,
   "metadata": {},
   "outputs": [],
   "source": []
  }
 ],
 "metadata": {
  "kernelspec": {
   "display_name": "q",
   "language": "python",
   "name": "python3"
  },
  "language_info": {
   "codemirror_mode": {
    "name": "ipython",
    "version": 3
   },
   "file_extension": ".py",
   "mimetype": "text/x-python",
   "name": "python",
   "nbconvert_exporter": "python",
   "pygments_lexer": "ipython3",
   "version": "3.9.15"
  },
  "orig_nbformat": 4,
  "vscode": {
   "interpreter": {
    "hash": "05e50049e3eb32775174019135b7208a0d3852fb22829b3658213f387a3fdcbe"
   }
  }
 },
 "nbformat": 4,
 "nbformat_minor": 2
}
